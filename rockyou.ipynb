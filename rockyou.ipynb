{
 "cells": [
  {
   "cell_type": "markdown",
   "metadata": {},
   "source": [
    "# Rockyou password database collision test\n",
    "\n",
    "In this small project, we'll check if there are any collisions in the hash values of the passwords contained in the famous rockyou database."
   ]
  },
  {
   "cell_type": "code",
   "execution_count": 1,
   "metadata": {},
   "outputs": [],
   "source": [
    "%matplotlib inline\n",
    "\n",
    "import hashlib\n",
    "import pandas as pd\n",
    "import os\n",
    "from tqdm import tqdm\n",
    "\n",
    "def file_len(fname):\n",
    "    with open(fname) as f:\n",
    "        i=0\n",
    "        for i, l in enumerate(f):\n",
    "            pass\n",
    "        return i + 1"
   ]
  },
  {
   "cell_type": "markdown",
   "metadata": {},
   "source": [
    "If the database does not exist in the computer, it will be\n",
    "1. downloaded from a repo on GitHub\n",
    "2. untarred\n",
    "3. UTF-8 corrected\n",
    "4. made sure there are only unique passwords"
   ]
  },
  {
   "cell_type": "code",
   "execution_count": 2,
   "metadata": {},
   "outputs": [
    {
     "name": "stdout",
     "output_type": "stream",
     "text": [
      "14344328 passwords to process!\n"
     ]
    }
   ],
   "source": [
    "if not os.path.exists('rockyou.txt'):\n",
    "    if not os.path.exists('rockyou.txt.tar.gz'):\n",
    "        import urllib.request\n",
    "        url = 'https://github.com/danielmiessler/SecLists/raw/master/Passwords/Leaked-Databases/rockyou.txt.tar.gz'\n",
    "        print('Downlading passwords...')\n",
    "        urllib.request.urlretrieve(url, './rockyou.txt.tar.gz')\n",
    "        print('Done')\n",
    "\n",
    "    import tarfile\n",
    "    print('Decompressing data...')\n",
    "    tar = tarfile.open(\"rockyou.txt.tar.gz\")\n",
    "    tar.extractall()\n",
    "    tar.close()\n",
    "\n",
    "    import codecs\n",
    "    print('Fixing UTF-8 encoding issues before starting...')\n",
    "    f = codecs.open('rockyou.txt', encoding='utf-8', errors='ignore')\n",
    "    data = set()\n",
    "    for line in f:\n",
    "        data.add(line)\n",
    "\n",
    "    print('Overwriting file with UTF-8 compliant content...')\n",
    "    target = open('rockyou.txt', 'w')\n",
    "    target.write(''.join(data))\n",
    "    print('Done')\n",
    "\n",
    "num_passwords = file_len('rockyou.txt')\n",
    "print(num_passwords, 'passwords to process!')"
   ]
  },
  {
   "cell_type": "markdown",
   "metadata": {},
   "source": [
    "We'll only use MD5 and SHA-1, since these are the functions known to produce hash collisions..."
   ]
  },
  {
   "cell_type": "code",
   "execution_count": 3,
   "metadata": {},
   "outputs": [],
   "source": [
    "hashes = pd.DataFrame()\n",
    "\n",
    "# Which algorithms we are going to test\n",
    "experiments = [('MD5', hashlib.md5), ('SHA1', hashlib.sha1)]"
   ]
  },
  {
   "cell_type": "markdown",
   "metadata": {},
   "source": [
    "Let's run our experiments."
   ]
  },
  {
   "cell_type": "code",
   "execution_count": 4,
   "metadata": {},
   "outputs": [
    {
     "name": "stderr",
     "output_type": "stream",
     "text": [
      "MD5: 100%|██████████| 14344328/14344328 [00:21<00:00, 667914.05it/s]\n",
      "SHA1: 100%|██████████| 14344328/14344328 [00:21<00:00, 661789.07it/s]\n"
     ]
    }
   ],
   "source": [
    "# For each algorithm...\n",
    "for algo_name, algo_function in experiments:      \n",
    "    \n",
    "    hashes_list = []\n",
    "    with open(\"rockyou.txt\", \"r\") as ins:\n",
    "        \n",
    "        for password in tqdm(ins, desc=algo_name, total=num_passwords):\n",
    "            # create our hashing object\n",
    "            m = algo_function()\n",
    "            m.update(password.encode('utf-8'))\n",
    "            hashe = str(m.hexdigest())\n",
    "            \n",
    "            if algo_name not in hashes.columns:\n",
    "                hashes_list.append(hashe)\n",
    "                \n",
    "        # We are going to save the hashes to our database, in case they don't still exist\n",
    "        if algo_name not in hashes.columns:\n",
    "            hashes[algo_name] = hashes_list"
   ]
  },
  {
   "cell_type": "markdown",
   "metadata": {},
   "source": [
    "pandas will help us find non-unique values. As we can see, everything is unique, so there are no collisions. That concludes our project."
   ]
  },
  {
   "cell_type": "code",
   "execution_count": 5,
   "metadata": {},
   "outputs": [
    {
     "data": {
      "text/html": [
       "<div>\n",
       "<style scoped>\n",
       "    .dataframe tbody tr th:only-of-type {\n",
       "        vertical-align: middle;\n",
       "    }\n",
       "\n",
       "    .dataframe tbody tr th {\n",
       "        vertical-align: top;\n",
       "    }\n",
       "\n",
       "    .dataframe thead th {\n",
       "        text-align: right;\n",
       "    }\n",
       "</style>\n",
       "<table border=\"1\" class=\"dataframe\">\n",
       "  <thead>\n",
       "    <tr style=\"text-align: right;\">\n",
       "      <th></th>\n",
       "      <th>MD5</th>\n",
       "      <th>SHA1</th>\n",
       "    </tr>\n",
       "  </thead>\n",
       "  <tbody>\n",
       "    <tr>\n",
       "      <th>count</th>\n",
       "      <td>14344328</td>\n",
       "      <td>14344328</td>\n",
       "    </tr>\n",
       "    <tr>\n",
       "      <th>unique</th>\n",
       "      <td>14344328</td>\n",
       "      <td>14344328</td>\n",
       "    </tr>\n",
       "    <tr>\n",
       "      <th>top</th>\n",
       "      <td>dc335875b411a43e28c7f4310c396c90</td>\n",
       "      <td>d63f4a576e3915b376ff7e3f8e60145f318074c3</td>\n",
       "    </tr>\n",
       "    <tr>\n",
       "      <th>freq</th>\n",
       "      <td>1</td>\n",
       "      <td>1</td>\n",
       "    </tr>\n",
       "  </tbody>\n",
       "</table>\n",
       "</div>"
      ],
      "text/plain": [
       "                                     MD5  \\\n",
       "count                           14344328   \n",
       "unique                          14344328   \n",
       "top     dc335875b411a43e28c7f4310c396c90   \n",
       "freq                                   1   \n",
       "\n",
       "                                            SHA1  \n",
       "count                                   14344328  \n",
       "unique                                  14344328  \n",
       "top     d63f4a576e3915b376ff7e3f8e60145f318074c3  \n",
       "freq                                           1  "
      ]
     },
     "execution_count": 5,
     "metadata": {},
     "output_type": "execute_result"
    }
   ],
   "source": [
    "hashes.describe()"
   ]
  }
 ],
 "metadata": {
  "kernelspec": {
   "display_name": "Python 3",
   "language": "python",
   "name": "python3"
  },
  "language_info": {
   "codemirror_mode": {
    "name": "ipython",
    "version": 3
   },
   "file_extension": ".py",
   "mimetype": "text/x-python",
   "name": "python",
   "nbconvert_exporter": "python",
   "pygments_lexer": "ipython3",
   "version": "3.6.6"
  }
 },
 "nbformat": 4,
 "nbformat_minor": 2
}
